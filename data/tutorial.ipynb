{
 "cells": [
  {
   "cell_type": "code",
   "execution_count": null,
   "metadata": {
    "collapsed": true
   },
   "outputs": [],
   "source": [
    "from hail import *\n",
    "hc = HailContext()"
   ]
  },
  {
   "cell_type": "code",
   "execution_count": null,
   "metadata": {
    "collapsed": true
   },
   "outputs": [],
   "source": [
    "vcf = 'hail-tutorial-files/1000Genomes.ALL.coreExome10K-v1.vcf.bgz'\n",
    "sample_annotations = 'hail-tutorial-files/1000Genomes.ALL.coreExome10K-v1.sample_annotations'\n",
    "pruned_variants = 'hail-tutorial-files/purcell5k.interval_list'"
   ]
  },
  {
   "cell_type": "code",
   "execution_count": null,
   "metadata": {
    "collapsed": false
   },
   "outputs": [],
   "source": [
    "vds = hc.import_vcf(vcf)\n",
    "vds = vds.split_multi()\n",
    "vds = vds.annotate_samples_table(sample_annotations, root='sa.pheno',sample_expr='Sample', config=TextTableConfig(impute=True))\n",
    "out_path = 'out/1kg.vds'\n",
    "vds.write(out_path)"
   ]
  },
  {
   "cell_type": "code",
   "execution_count": null,
   "metadata": {
    "collapsed": false
   },
   "outputs": [],
   "source": [
    "vds = hc.read(out_path)\n",
    "vds.count(genotypes=True)"
   ]
  },
  {
   "cell_type": "code",
   "execution_count": null,
   "metadata": {
    "collapsed": false
   },
   "outputs": [],
   "source": [
    "filter_condition = '''let ab = g.ad[1] / g.ad.sum in\n",
    "                          ((g.isHomRef && ab <= 0.1) || \n",
    "                           (g.isHet && ab >= 0.25 && ab <= 0.75) || \n",
    "                           (g.isHomVar && ab >= 0.9))'''\n",
    "filtered_vds = vds.filter_genotypes(filter_condition)\n",
    "filtered_vds.count(genotypes=True)"
   ]
  },
  {
   "cell_type": "code",
   "execution_count": null,
   "metadata": {
    "collapsed": false
   },
   "outputs": [],
   "source": [
    "filtered_vds_2 = (filtered_vds\n",
    "     .filter_variants_expr('gs.fraction(g => g.isCalled) > 0.95')\n",
    "     .sample_qc())\n",
    "filtered_vds_2.print_schema(sa=True)\n",
    "filtered_vds_2.export_samples('out/sampleqc.txt', 'Sample = s.id, sa.qc.*')"
   ]
  },
  {
   "cell_type": "code",
   "execution_count": null,
   "metadata": {
    "collapsed": false
   },
   "outputs": [],
   "source": [
    "%%sh\n",
    "head sampleqc.txt | cut -f 1,2,3,4,5,6,7,8,9,10"
   ]
  },
  {
   "cell_type": "code",
   "execution_count": null,
   "metadata": {
    "collapsed": false
   },
   "outputs": [],
   "source": [
    "(filtered_vds_2\n",
    "      .filter_samples_expr('sa.qc.callRate >= 0.97 && sa.qc.gqMean >= 20')\n",
    "      .export_samples('out/included_samples.txt', 's.id'))\n",
    "filtered_vds_3 = filtered_vds.filter_samples_list('out/included_samples.txt')\n",
    "print 'before filter: %d samples' % filtered_vds.num_samples()\n",
    "print 'after filter: %d samples' % filtered_vds_3.num_samples()\n",
    "method_1_kept_ids = filtered_vds_3.sample_ids()\n",
    "\n",
    "filtered_vds_3 = (filtered_vds\n",
    "    .annotate_samples_table('out/sampleqc.txt', sample_expr='Sample', \n",
    "                            root='sa.qc', config=TextTableConfig(impute=True))\n",
    "    .filter_samples_expr('sa.qc.callRate >= 0.97 && sa.qc.gqMean >= 20'))\n",
    "print 'before filter: %d samples' % filtered_vds.num_samples()\n",
    "print 'after filter: %d samples' % filtered_vds_3.num_samples()\n",
    "method_2_kept_ids = filtered_vds_3.sample_ids()\n",
    "\n",
    "method_1_kept_ids == method_2_kept_ids\n",
    "\n",
    "post_qc_exprs = [\n",
    "    'global.postQC.nCases = samples.filter(s => sa.pheno.PurpleHair).count()',\n",
    "    'global.postQC.nControls = samples.filter(s => !sa.pheno.PurpleHair).count()' ]\n",
    "filtered_vds_3.annotate_global_expr_by_sample(post_qc_exprs).show_globals()\n",
    "\n",
    "filtered_vds_3 = filtered_vds_3.variant_qc()\n",
    "filtered_vds_3.print_schema(va=True)\n",
    "filtered_vds_3.export_variants('out/variantqc.tsv',\n",
    "                               'Chrom=v.contig, Pos=v.start, Ref=v.ref, Alt=v.alt, va.qc.*')"
   ]
  },
  {
   "cell_type": "code",
   "execution_count": null,
   "metadata": {
    "collapsed": false
   },
   "outputs": [],
   "source": [
    "hwe_expressions = [\n",
    "    'va.hweByPop.hweEUR = gs.filter(g => sa.pheno.SuperPopulation == \"EUR\").hardyWeinberg()',\n",
    "    'va.hweByPop.hweSAS = gs.filter(g => sa.pheno.SuperPopulation == \"SAS\").hardyWeinberg()',\n",
    "    'va.hweByPop.hweAMR = gs.filter(g => sa.pheno.SuperPopulation == \"AMR\").hardyWeinberg()',\n",
    "    'va.hweByPop.hweAFR = gs.filter(g => sa.pheno.SuperPopulation == \"AFR\").hardyWeinberg()',\n",
    "    'va.hweByPop.hweEAS = gs.filter(g => sa.pheno.SuperPopulation == \"EAS\").hardyWeinberg()' ]\n",
    "filtered_vds_3 = filtered_vds_3.annotate_variants_expr(hwe_expressions)\n",
    "filtered_vds_3.persist()\n",
    "filtered_vds_3.print_schema(va=True)\n",
    "\n",
    "hwe_filter_expression = '''\n",
    "    va.hweByPop.hweEUR.pHWE > 1e-6 && \n",
    "    va.hweByPop.hweSAS.pHWE > 1e-6 && \n",
    "    va.hweByPop.hweAMR.pHWE > 1e-6 && \n",
    "    va.hweByPop.hweAFR.pHWE > 1e-6 && \n",
    "    va.hweByPop.hweEAS.pHWE > 1e-6 '''\n",
    "hwe_filtered_vds = filtered_vds_3.filter_variants_expr(hwe_filter_expression)\n",
    "hwe_filtered_vds.count()"
   ]
  },
  {
   "cell_type": "code",
   "execution_count": null,
   "metadata": {
    "collapsed": false
   },
   "outputs": [],
   "source": [
    "vds.filter_variants_expr('v.contig == \"X\"').num_variants()"
   ]
  },
  {
   "cell_type": "code",
   "execution_count": null,
   "metadata": {
    "collapsed": false
   },
   "outputs": [],
   "source": [
    "final_filtered_vds = hwe_filtered_vds.filter_variants_expr('va.qc.gqMean >= 20')\n",
    "final_filtered_vds.count()"
   ]
  },
  {
   "cell_type": "code",
   "execution_count": null,
   "metadata": {
    "collapsed": false
   },
   "outputs": [],
   "source": [
    "sex_aware_hwe_exprs = [ \n",
    "     '''va.hweByPop.hweEUR = \n",
    "        if (v.contig != \"X\") \n",
    "          gs.filter(g => sa.pheno.SuperPopulation == \"EUR\").hardyWeinberg() \n",
    "        else \n",
    "          gs.filter(g => sa.pheno.SuperPopulation == \"EUR\" && sa.pheno.isFemale).hardyWeinberg()''',\n",
    "     '''va.hweByPop.hweSAS = \n",
    "        if (v.contig != \"X\") \n",
    "          gs.filter(g => sa.pheno.SuperPopulation == \"SAS\").hardyWeinberg() \n",
    "        else \n",
    "          gs.filter(g => sa.pheno.SuperPopulation == \"SAS\" && sa.pheno.isFemale).hardyWeinberg()''',\n",
    "     '''va.hweByPop.hweAMR = \n",
    "        if (v.contig != \"X\") \n",
    "          gs.filter(g => sa.pheno.SuperPopulation == \"AMR\").hardyWeinberg() \n",
    "        else \n",
    "          gs.filter(g => sa.pheno.SuperPopulation == \"AMR\" && sa.pheno.isFemale).hardyWeinberg()''',\n",
    "     '''va.hweByPop.hweAFR = \n",
    "        if (v.contig != \"X\") \n",
    "          gs.filter(g => sa.pheno.SuperPopulation == \"AFR\").hardyWeinberg() \n",
    "        else \n",
    "          gs.filter(g => sa.pheno.SuperPopulation == \"AFR\" && sa.pheno.isFemale).hardyWeinberg()''',\n",
    "     '''va.hweByPop.hweEAS = \n",
    "        if (v.contig != \"X\") \n",
    "          gs.filter(g => sa.pheno.SuperPopulation == \"EAS\").hardyWeinberg() \n",
    "        else \n",
    "          gs.filter(g => sa.pheno.SuperPopulation == \"EAS\" && sa.pheno.isFemale).hardyWeinberg()''' ]\n",
    "hwe_filtered_vds_fixed = (filtered_vds_3\n",
    "    .annotate_variants_expr(sex_aware_hwe_exprs)\n",
    "    .filter_variants_expr(hwe_filter_expression)\n",
    "    .persist())\n",
    "print 'total variants = %s' % hwe_filtered_vds_fixed.num_variants()\n",
    "print 'X chromosome variants = %s' % hwe_filtered_vds_fixed.filter_variants_expr('v.contig == \"X\"').num_variants()"
   ]
  },
  {
   "cell_type": "code",
   "execution_count": null,
   "metadata": {
    "collapsed": false
   },
   "outputs": [],
   "source": [
    "sex_check_vds = (hwe_filtered_vds_fixed\n",
    "    .impute_sex(maf_threshold=0.05)\n",
    "    .annotate_samples_expr('sa.sexcheck = sa.pheno.isFemale == sa.imputesex.isFemale'))\n",
    "total_samples = sex_check_vds.num_samples()\n",
    "sex_check_passes = sex_check_vds.filter_samples_expr('sa.sexcheck').num_samples()\n",
    "print 'total samples: %s' % total_samples\n",
    "print 'sex_check_passes: %s' % sex_check_passes\n",
    "\n",
    "(sex_check_vds.annotate_global_expr_by_sample(\n",
    "    'global.sexcheckCounter = samples.map(s => sa.sexcheck).counter()')\n",
    "    .show_globals())\n",
    "\n",
    "sex_check_filtered_vds = sex_check_vds.filter_samples_expr('sa.sexcheck || isMissing(sa.sexcheck)').persist()\n",
    "print 'samples after filter: %s' % sex_check_filtered_vds.num_samples()"
   ]
  },
  {
   "cell_type": "code",
   "execution_count": null,
   "metadata": {
    "collapsed": false
   },
   "outputs": [],
   "source": [
    "pca_vds = (sex_check_filtered_vds.filter_variants_intervals('hail-tutorial-files/purcell5k.interval_list')\n",
    "    .pca(scores='sa.pca'))\n",
    "pca_vds.export_samples('out/pcaPlusPopulation.tsv', \n",
    "    'Sample=s, SuperPopulation=sa.pheno.SuperPopulation,'\n",
    "    'Population=sa.pheno.Population, sa.pca.*')"
   ]
  }
 ],
 "metadata": {
  "kernelspec": {
   "display_name": "Python 2",
   "language": "python",
   "name": "python2"
  },
  "language_info": {
   "codemirror_mode": {
    "name": "ipython",
    "version": 2
   },
   "file_extension": ".py",
   "mimetype": "text/x-python",
   "name": "python",
   "nbconvert_exporter": "python",
   "pygments_lexer": "ipython2",
   "version": "2.7.12"
  }
 },
 "nbformat": 4,
 "nbformat_minor": 1
}
