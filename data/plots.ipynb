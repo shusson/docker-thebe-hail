{
 "cells": [
  {
   "cell_type": "code",
   "execution_count": null,
   "metadata": {
    "collapsed": false
   },
   "outputs": [],
   "source": [
    "sampleqc <- read.table(\"out/sampleqc.txt\", header=TRUE)\n",
    "png(\"test.sampleqc.png\", width=800, height = 400)\n",
    "par(mfrow=c(1,2))\n"
   ]
  },
  {
   "cell_type": "code",
   "execution_count": null,
   "metadata": {
    "collapsed": false
   },
   "outputs": [],
   "source": [
    "hist(sampleqc$callRate, breaks=20, xlab=\"Sample Call Rate\", main=\"\"); abline(v=0.97, col=\"red\")"
   ]
  },
  {
   "cell_type": "code",
   "execution_count": null,
   "metadata": {
    "collapsed": false
   },
   "outputs": [],
   "source": [
    "hist(sampleqc$gqMean, xlab=\"Mean Sample GQ\", main=\"\");abline(v=20, col=\"red\")"
   ]
  },
  {
   "cell_type": "code",
   "execution_count": null,
   "metadata": {
    "collapsed": false
   },
   "outputs": [],
   "source": [
    "## Variant QC\n",
    "variantqc <- read.table(\"out/variantqc.tsv\", header=TRUE)\n",
    "png(\"test.variantqc.png\", width=800, height = 400)\n",
    "par(mfrow=c(2,2))\n",
    "hist(variantqc$gqMean, main=\"\", xlab=\"Variant Mean GQ\"); abline(v=20, col=\"red\")\n",
    "hist(variantqc$AF, main=\"\", xlab=\"Minor Allele Frequency\", breaks=20); abline(v=0.05, col=\"red\")\n",
    "hist(variantqc$callRate, main=\"\", xlab=\"Variant Call Rate\")\n"
   ]
  },
  {
   "cell_type": "code",
   "execution_count": null,
   "metadata": {
    "collapsed": false
   },
   "outputs": [],
   "source": [
    "hist(variantqc$pHWE, main=\"\", xlab=\"Hardy-Weinberg Equilibrium p-value\")"
   ]
  },
  {
   "cell_type": "code",
   "execution_count": null,
   "metadata": {
    "collapsed": false
   },
   "outputs": [],
   "source": [
    "## PC Plot\n",
    "pcs <- read.table(\"out/pcaPlusPopulation.tsv\", header=TRUE)\n",
    "png(\"test.pcaPlot.png\", width=800, height = 400)\n",
    "par(mfrow=c(1,2))"
   ]
  },
  {
   "cell_type": "code",
   "execution_count": null,
   "metadata": {
    "collapsed": false
   },
   "outputs": [],
   "source": [
    "plot(pcs$PC1, pcs$PC2, pch=20, cex=0.7, col=pcs$SuperPopulation, xlab=\"PC1\", ylab=\"PC2\")\n",
    "legend(\"topright\", legend = levels(pcs$SuperPopulation), pch=20, col=seq(1,5))"
   ]
  },
  {
   "cell_type": "code",
   "execution_count": null,
   "metadata": {
    "collapsed": false
   },
   "outputs": [],
   "source": [
    "plot(pcs$PC2, pcs$PC3, pch=20, cex=0.7, col=pcs$SuperPopulation, xlab=\"PC2\", ylab=\"PC3\")\n",
    "legend(\"topright\", legend = levels(pcs$SuperPopulation), pch=20, col=seq(1,5))"
   ]
  }
 ],
 "metadata": {
  "anaconda-cloud": {},
  "kernelspec": {
   "display_name": "R",
   "language": "R",
   "name": "ir"
  },
  "language_info": {
   "codemirror_mode": "r",
   "file_extension": ".r",
   "mimetype": "text/x-r-source",
   "name": "R",
   "pygments_lexer": "r",
   "version": "3.3.2"
  }
 },
 "nbformat": 4,
 "nbformat_minor": 1
}
